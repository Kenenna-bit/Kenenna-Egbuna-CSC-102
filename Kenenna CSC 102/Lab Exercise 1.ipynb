{
 "cells": [
  {
   "cell_type": "markdown",
   "metadata": {},
   "source": [
    "# KENENNA EGBUNA\n",
    "# 19100111362\n",
    "# kenennaegbuna@gmail.com"
   ]
  },
  {
   "cell_type": "code",
   "execution_count": 51,
   "metadata": {},
   "outputs": [
    {
     "name": "stdout",
     "output_type": "stream",
     "text": [
      "integer :3\n",
      "integer :3\n",
      "integer: 3\n",
      "27\n"
     ]
    }
   ],
   "source": [
    "#Write a Python program to calculate the sum of three given numbers, if the values are equal then return thrice of their sum\n",
    "a=int(input(\"integer :\"))\n",
    "b=int(input(\"integer :\"))\n",
    "c=int(input(\"integer: \"))\n",
    "answer=(a+b+c)\n",
    "if a==b==c:\n",
    "    print(3 * answer)\n",
    "else:\n",
    "    print(answer)\n",
    "\n",
    "    \n",
    "\n",
    "\n"
   ]
  },
  {
   "cell_type": "code",
   "execution_count": 48,
   "metadata": {},
   "outputs": [
    {
     "name": "stdout",
     "output_type": "stream",
     "text": [
      "enter integer: 3\n",
      "enter second integer: 3\n",
      "True\n"
     ]
    }
   ],
   "source": [
    "#Write a Python program which will return true if the two given integer valued are equal or their sum or difference is 5\n",
    "a = int(input(\"enter integer: \"))\n",
    "b = int(input(\"enter second integer: \"))\n",
    "if a==b:\n",
    "    print(True)\n",
    "elif a+b==5:\n",
    "    print(True)\n",
    "elif a-b==5:\n",
    "    print(True)\n",
    "else:\n",
    "    print(False)\n",
    "    \n",
    "\n"
   ]
  },
  {
   "cell_type": "code",
   "execution_count": 42,
   "metadata": {},
   "outputs": [
    {
     "name": "stdout",
     "output_type": "stream",
     "text": [
      "enter integer: -4\n",
      "42\n"
     ]
    }
   ],
   "source": [
    "#Write a Python program to get the difference between a given number and 17, if the number is greater than 17 return double the absolute difference.\n",
    "\n",
    "y = 17\n",
    "x = int(input(\"enter integer: \"))\n",
    "answer = y-x\n",
    "if answer>17:\n",
    "    print(2*answer)\n",
    "else:\n",
    "    print(answer)\n",
    "    \n",
    "\n",
    "\n",
    "\n"
   ]
  },
  {
   "cell_type": "code",
   "execution_count": 59,
   "metadata": {},
   "outputs": [
    {
     "name": "stdout",
     "output_type": "stream",
     "text": [
      "enter integer: 9\n",
      "enter 2nd integer: 3\n",
      "enter 3rd integer: 6\n",
      "[3, 6, 9]\n"
     ]
    }
   ],
   "source": [
    "#Write a Python program to sort three integers without using conditional statements and loops.\n",
    "a=int(input(\"enter integer: \"))\n",
    "b=int(input(\"enter 2nd integer: \"))\n",
    "c=int(input(\"enter 3rd integer: \"))\n",
    "\n",
    "list = (a,b,c)\n",
    "new_list = sorted(list)\n",
    "print(new_list)\n"
   ]
  },
  {
   "cell_type": "code",
   "execution_count": 69,
   "metadata": {},
   "outputs": [
    {
     "name": "stdout",
     "output_type": "stream",
     "text": [
      "enter positive integer: 6\n",
      "sum of cubes:  225\n"
     ]
    }
   ],
   "source": [
    "#Write a Python function that takes a positive integer and returns the sum of the cube of all the positive integers smaller than the specified number\n",
    "def sum_of_cubes(n):\n",
    "    n -= 1\n",
    "    total = 0\n",
    "    while n>0:\n",
    "        total += n*n*n\n",
    "        n -= 1\n",
    "    return total\n",
    "print(\"sum of cubes: \", sum_of_cubes(int(input(\"enter positive integer: \"))))"
   ]
  },
  {
   "cell_type": "code",
   "execution_count": null,
   "metadata": {},
   "outputs": [],
   "source": []
  }
 ],
 "metadata": {
  "kernelspec": {
   "display_name": "Python 3",
   "language": "python",
   "name": "python3"
  },
  "language_info": {
   "codemirror_mode": {
    "name": "ipython",
    "version": 3
   },
   "file_extension": ".py",
   "mimetype": "text/x-python",
   "name": "python",
   "nbconvert_exporter": "python",
   "pygments_lexer": "ipython3",
   "version": "3.8.5"
  }
 },
 "nbformat": 4,
 "nbformat_minor": 4
}
